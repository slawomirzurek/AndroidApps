{
 "cells": [
  {
   "cell_type": "code",
   "execution_count": 2,
   "metadata": {},
   "outputs": [
    {
     "name": "stdout",
     "output_type": "stream",
     "text": [
      "1385184427600\n",
      "1385182359856\n",
      "1385182359856\n"
     ]
    }
   ],
   "source": [
    "# Object IDs:\n",
    "class MyClass:\n",
    "    pass\n",
    "\n",
    "var1 = MyClass()\n",
    "var2 = MyClass()\n",
    "var3 = var2\n",
    "\n",
    "print(id(var1))\n",
    "print(id(var2))\n",
    "print(id(var3))"
   ]
  },
  {
   "cell_type": "code",
   "execution_count": 3,
   "metadata": {},
   "outputs": [
    {
     "name": "stdout",
     "output_type": "stream",
     "text": [
      "True\n"
     ]
    }
   ],
   "source": [
    "# Variables comparison:\n",
    "print(var2 is var3)"
   ]
  },
  {
   "cell_type": "code",
   "execution_count": 4,
   "metadata": {},
   "outputs": [
    {
     "name": "stdout",
     "output_type": "stream",
     "text": [
      "Sławomir Żurek says something.\n",
      "Sławomir lifts 70 kg.\n",
      "Convertion: 70 kg --> 31.75 lbs\n"
     ]
    }
   ],
   "source": [
    "class Human:\n",
    "    def __init__(self, first_name, last_name, age, sex):\n",
    "        self.first_name = first_name\n",
    "        self.last_name = last_name\n",
    "        self.age = age\n",
    "        self.sex = sex\n",
    "\n",
    "    def say(self, sentence):\n",
    "        print('{} {} says something.'.format(self.first_name,self.last_name, sentence))\n",
    "\n",
    "    def lift(self, weight):\n",
    "        print('{} lifts {} {}.'.format(self.first_name,weight.weight,weight.unit))\n",
    "\n",
    "class Weight:\n",
    "    conversion_table = {'kg': {'lbs': 0.45359237},'lbs': {'kg': 2.20462262}}\n",
    "\n",
    "    def __init__(self, weight, unit='kg'):\n",
    "        self.weight = weight\n",
    "        self.unit = unit\n",
    "\n",
    "    def convert_to(self, new_unit):\n",
    "        ratio = self.conversion_table[self.unit][new_unit]\n",
    "        converted_weight = round(self.weight * ratio,2)\n",
    "        return converted_weight\n",
    "\n",
    "me = Human('Sławomir', 'Żurek', 39, 'M')\n",
    "weight = Weight(70, 'kg')\n",
    "\n",
    "me.say('\"Hello World!\"')\n",
    "me.lift(weight)\n",
    "\n",
    "unit = 'lbs'\n",
    "print('Convertion: {} {} --> '.format(weight.weight, weight.unit) + ('{} {}'.format(weight.convert_to(unit), unit)))"
   ]
  },
  {
   "cell_type": "code",
   "execution_count": 5,
   "metadata": {},
   "outputs": [
    {
     "name": "stdout",
     "output_type": "stream",
     "text": [
      "5\n"
     ]
    }
   ],
   "source": [
    "# Inheritance\n",
    "\n",
    "class Car:\n",
    "    def __init__(self, number_of_seats):\n",
    "        self.number_of_seats = number_of_seats\n",
    "    \n",
    "    def age(self):\n",
    "        pass\n",
    "\n",
    "class Skoda(Car):\n",
    "    def __init__(self):\n",
    "        super().__init__(5)\n",
    "    \n",
    "    def age(self):\n",
    "        print(\"10 years\")\n",
    "\n",
    "skoda = Skoda()\n",
    "\n",
    "print(skoda.number_of_seats)"
   ]
  },
  {
   "cell_type": "code",
   "execution_count": null,
   "metadata": {},
   "outputs": [],
   "source": [
    "class NegativeNumberError(Exception):\n",
    "    pass\n",
    "\n",
    "x = input(\"Enter non-negative number: \")\n",
    "if int(x) < 0:\n",
    "    raise NegativeNumberError(\"There is negative number!\")"
   ]
  },
  {
   "cell_type": "code",
   "execution_count": null,
   "metadata": {},
   "outputs": [],
   "source": [
    "def fun(*args, **kwargs):\n",
    "    print(args)\n",
    "    print(kwargs)\n",
    "\n",
    "fun(1,2,3,4,5,x=5,y=6)"
   ]
  },
  {
   "cell_type": "code",
   "execution_count": 12,
   "metadata": {},
   "outputs": [
    {
     "name": "stdout",
     "output_type": "stream",
     "text": [
      "funkcja dekorująca\n",
      "fun\n"
     ]
    }
   ],
   "source": [
    "import functools\n",
    "\n",
    "def decorate(function):\n",
    "    @functools.wraps(function)\n",
    "    def inner(*args, **kwargs):\n",
    "        s = 'funkcja dekorująca'\n",
    "        print(s)\n",
    "    return inner\n",
    "\n",
    "\n",
    "@decorate\n",
    "def fun(text):\n",
    "    \"\"\"Testowy tekst\"\"\"\n",
    "    print(text)\n",
    "\n",
    "\n",
    "fun(\"test1\")\n",
    "print(fun.__name__)\n"
   ]
  },
  {
   "cell_type": "code",
   "execution_count": 16,
   "metadata": {},
   "outputs": [
    {
     "name": "stdout",
     "output_type": "stream",
     "text": [
      "[0, 1, 4, 9, 16, 25, 36, 49, 64, 81]\n"
     ]
    }
   ],
   "source": [
    "list(range(10))\n",
    "l = [x**2 for x in range(10)]\n",
    "print(l)"
   ]
  },
  {
   "cell_type": "code",
   "execution_count": 1,
   "metadata": {},
   "outputs": [
    {
     "name": "stdout",
     "output_type": "stream",
     "text": [
      "abcdefghijklmnopqrstuvwxyzABCDEFGHIJKLMNOPQRSTUVWXYZ\n",
      "['A', 'L', 'A', 'M', 'A', 'K', 'O', 'T', 'A']\n",
      "{'a': 97, 'b': 98, 'c': 99, 'd': 100, 'e': 101, 'f': 102, 'g': 103, 'h': 104, 'i': 105, 'j': 106, 'k': 107, 'l': 108, 'm': 109, 'n': 110, 'o': 111, 'p': 112, 'q': 113, 'r': 114, 's': 115, 't': 116, 'u': 117, 'v': 118, 'w': 119, 'x': 120, 'y': 121, 'z': 122, 'A': 65, 'B': 66, 'C': 67, 'D': 68, 'E': 69, 'F': 70, 'G': 71, 'H': 72, 'I': 73, 'J': 74, 'K': 75, 'L': 76, 'M': 77, 'N': 78, 'O': 79, 'P': 80, 'Q': 81, 'R': 82, 'S': 83, 'T': 84, 'U': 85, 'V': 86, 'W': 87, 'X': 88, 'Y': 89, 'Z': 90}\n",
      "A\n",
      "L\n",
      "A\n",
      "M\n",
      "A\n",
      "K\n",
      "O\n",
      "T\n",
      "A\n"
     ]
    }
   ],
   "source": [
    "import string\n",
    "print(string.ascii_letters)\n",
    "text = 'Ala ma kota!'\n",
    "\n",
    "#list comprehension\n",
    "letters = [x.upper() for x in text if x in string.ascii_letters]\n",
    "print(letters)\n",
    "\n",
    "#dict comrehension\n",
    "dict = {x: ord(x) for x in string.ascii_letters}\n",
    "print(dict)\n",
    "\n",
    "\n",
    "#generator object\n",
    "letters = (x.upper() for x in text if x in string.ascii_letters)\n",
    "for item in letters:\n",
    "    print(item)\n"
   ]
  }
 ],
 "metadata": {
  "kernelspec": {
   "display_name": "Python 3.10.0 64-bit",
   "language": "python",
   "name": "python3"
  },
  "language_info": {
   "codemirror_mode": {
    "name": "ipython",
    "version": 3
   },
   "file_extension": ".py",
   "mimetype": "text/x-python",
   "name": "python",
   "nbconvert_exporter": "python",
   "pygments_lexer": "ipython3",
   "version": "3.10.0"
  },
  "orig_nbformat": 4,
  "vscode": {
   "interpreter": {
    "hash": "f97e529747ebd75ab7a7eec8530cad2ed8018c456aefe1ed5a69bb21bdfd2052"
   }
  }
 },
 "nbformat": 4,
 "nbformat_minor": 2
}
